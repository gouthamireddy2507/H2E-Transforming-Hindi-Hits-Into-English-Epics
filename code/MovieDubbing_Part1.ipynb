{
  "nbformat": 4,
  "nbformat_minor": 0,
  "metadata": {
    "colab": {
      "provenance": []
    },
    "kernelspec": {
      "name": "python3",
      "display_name": "Python 3"
    },
    "language_info": {
      "name": "python"
    }
  },
  "cells": [
    {
      "cell_type": "code",
      "source": [
        "filename = 'srk'  # the name of the .mp4 file that needs to be processed\n",
        "input_file_path = f'/path/to/your/directory/{filename}.mp4' #give your own path\n",
        "\n",
        "use_denoiser = False\n",
        "# True in case of the poorly recorded audio"
      ],
      "metadata": {
        "id": "DVbS_QFSTlL1"
      },
      "execution_count": null,
      "outputs": []
    },
    {
      "cell_type": "code",
      "source": [
        "!pip install moviepy\n",
        "!pip install spleeter\n",
        "!pip install noisereduce"
      ],
      "metadata": {
        "id": "l91e1SPkOkHI"
      },
      "execution_count": null,
      "outputs": []
    },
    {
      "cell_type": "code",
      "execution_count": null,
      "metadata": {
        "id": "qCc-SGF8MApJ"
      },
      "outputs": [],
      "source": [
        "%cd /content/drive/MyDrive/MovieDubbing/Part1\n",
        "\n",
        "#give your own file name in the place of moviedubbing_part1.py\n",
        "if use_denoiser:\n",
        "  !python moviedubbing_part1.py $input_file_path --denoise\n",
        "else:\n",
        "  !python moviedubbing_part1.py $input_file_path"
      ]
    },
    {
      "cell_type": "code",
      "source": [
        "import os\n",
        "import shutil\n",
        "\n",
        "if use_denoiser: filename = 'denoised_' + filename\n",
        "\n",
        "# Source directory path\n",
        "source_directory = f'/path/to/your/directory/{filename}' #use your own path\n",
        "\n",
        "# Destination directory path\n",
        "destination_directory = '/path/to/your/destination/directory'\n",
        "\n",
        "for item in os.listdir(destination_directory):\n",
        "    item_path = os.path.join(destination_directory, item)\n",
        "    os.remove(item_path)\n",
        "\n",
        "shutil.move(f'{source_directory}/vocals.wav', destination_directory)\n",
        "shutil.move(f'{source_directory}/accompaniment.wav', destination_directory)"
      ],
      "metadata": {
        "id": "gaDNI34OTSfC"
      },
      "execution_count": null,
      "outputs": []
    },
    {
      "cell_type": "code",
      "source": [],
      "metadata": {
        "id": "yl3_0hkaZe0m"
      },
      "execution_count": null,
      "outputs": []
    }
  ]
}